{
  "nbformat": 4,
  "nbformat_minor": 0,
  "metadata": {
    "kernelspec": {
      "display_name": "Python 3",
      "language": "python",
      "name": "python3"
    },
    "language_info": {
      "codemirror_mode": {
        "name": "ipython",
        "version": 3
      },
      "file_extension": ".py",
      "mimetype": "text/x-python",
      "name": "python",
      "nbconvert_exporter": "python",
      "pygments_lexer": "ipython3",
      "version": "3.8.3"
    },
    "colab": {
      "name": "amazon connections.ipynb",
      "provenance": [],
      "collapsed_sections": []
    }
  },
  "cells": [
    {
      "cell_type": "code",
      "metadata": {
        "id": "i50ZgDKXAirM"
      },
      "source": [
        "import pandas as pd\n",
        "import warnings\n",
        "warnings.filterwarnings(\"ignore\")\n",
        "data=pd.read_csv('/content/drive/MyDrive/Reviews.csv')"
      ],
      "execution_count": null,
      "outputs": []
    },
    {
      "cell_type": "code",
      "metadata": {
        "colab": {
          "base_uri": "https://localhost:8080/",
          "height": 683
        },
        "id": "j-_D1auYAira",
        "outputId": "ffdd9ccc-6cec-4a9b-f5cb-9e91eabca665"
      },
      "source": [
        "data.head()"
      ],
      "execution_count": null,
      "outputs": [
        {
          "output_type": "execute_result",
          "data": {
            "text/html": [
              "<div>\n",
              "<style scoped>\n",
              "    .dataframe tbody tr th:only-of-type {\n",
              "        vertical-align: middle;\n",
              "    }\n",
              "\n",
              "    .dataframe tbody tr th {\n",
              "        vertical-align: top;\n",
              "    }\n",
              "\n",
              "    .dataframe thead th {\n",
              "        text-align: right;\n",
              "    }\n",
              "</style>\n",
              "<table border=\"1\" class=\"dataframe\">\n",
              "  <thead>\n",
              "    <tr style=\"text-align: right;\">\n",
              "      <th></th>\n",
              "      <th>Id</th>\n",
              "      <th>ProductId</th>\n",
              "      <th>UserId</th>\n",
              "      <th>ProfileName</th>\n",
              "      <th>HelpfulnessNumerator</th>\n",
              "      <th>HelpfulnessDenominator</th>\n",
              "      <th>Score</th>\n",
              "      <th>Time</th>\n",
              "      <th>Summary</th>\n",
              "      <th>Text</th>\n",
              "    </tr>\n",
              "  </thead>\n",
              "  <tbody>\n",
              "    <tr>\n",
              "      <th>0</th>\n",
              "      <td>1</td>\n",
              "      <td>B001E4KFG0</td>\n",
              "      <td>A3SGXH7AUHU8GW</td>\n",
              "      <td>delmartian</td>\n",
              "      <td>1</td>\n",
              "      <td>1</td>\n",
              "      <td>5</td>\n",
              "      <td>1303862400</td>\n",
              "      <td>Good Quality Dog Food</td>\n",
              "      <td>I have bought several of the Vitality canned d...</td>\n",
              "    </tr>\n",
              "    <tr>\n",
              "      <th>1</th>\n",
              "      <td>2</td>\n",
              "      <td>B00813GRG4</td>\n",
              "      <td>A1D87F6ZCVE5NK</td>\n",
              "      <td>dll pa</td>\n",
              "      <td>0</td>\n",
              "      <td>0</td>\n",
              "      <td>1</td>\n",
              "      <td>1346976000</td>\n",
              "      <td>Not as Advertised</td>\n",
              "      <td>Product arrived labeled as Jumbo Salted Peanut...</td>\n",
              "    </tr>\n",
              "    <tr>\n",
              "      <th>2</th>\n",
              "      <td>3</td>\n",
              "      <td>B000LQOCH0</td>\n",
              "      <td>ABXLMWJIXXAIN</td>\n",
              "      <td>Natalia Corres \"Natalia Corres\"</td>\n",
              "      <td>1</td>\n",
              "      <td>1</td>\n",
              "      <td>4</td>\n",
              "      <td>1219017600</td>\n",
              "      <td>\"Delight\" says it all</td>\n",
              "      <td>This is a confection that has been around a fe...</td>\n",
              "    </tr>\n",
              "    <tr>\n",
              "      <th>3</th>\n",
              "      <td>4</td>\n",
              "      <td>B000UA0QIQ</td>\n",
              "      <td>A395BORC6FGVXV</td>\n",
              "      <td>Karl</td>\n",
              "      <td>3</td>\n",
              "      <td>3</td>\n",
              "      <td>2</td>\n",
              "      <td>1307923200</td>\n",
              "      <td>Cough Medicine</td>\n",
              "      <td>If you are looking for the secret ingredient i...</td>\n",
              "    </tr>\n",
              "    <tr>\n",
              "      <th>4</th>\n",
              "      <td>5</td>\n",
              "      <td>B006K2ZZ7K</td>\n",
              "      <td>A1UQRSCLF8GW1T</td>\n",
              "      <td>Michael D. Bigham \"M. Wassir\"</td>\n",
              "      <td>0</td>\n",
              "      <td>0</td>\n",
              "      <td>5</td>\n",
              "      <td>1350777600</td>\n",
              "      <td>Great taffy</td>\n",
              "      <td>Great taffy at a great price.  There was a wid...</td>\n",
              "    </tr>\n",
              "  </tbody>\n",
              "</table>\n",
              "</div>"
            ],
            "text/plain": [
              "   Id  ...                                               Text\n",
              "0   1  ...  I have bought several of the Vitality canned d...\n",
              "1   2  ...  Product arrived labeled as Jumbo Salted Peanut...\n",
              "2   3  ...  This is a confection that has been around a fe...\n",
              "3   4  ...  If you are looking for the secret ingredient i...\n",
              "4   5  ...  Great taffy at a great price.  There was a wid...\n",
              "\n",
              "[5 rows x 10 columns]"
            ]
          },
          "metadata": {
            "tags": []
          },
          "execution_count": 189
        }
      ]
    },
    {
      "cell_type": "code",
      "metadata": {
        "colab": {
          "base_uri": "https://localhost:8080/"
        },
        "id": "KmmA-7olAirc",
        "outputId": "568ab0bb-a986-4b85-e2ca-7fadaccb97b9"
      },
      "source": [
        "data.info()"
      ],
      "execution_count": null,
      "outputs": [
        {
          "output_type": "stream",
          "text": [
            "<class 'pandas.core.frame.DataFrame'>\n",
            "RangeIndex: 568454 entries, 0 to 568453\n",
            "Data columns (total 10 columns):\n",
            " #   Column                  Non-Null Count   Dtype \n",
            "---  ------                  --------------   ----- \n",
            " 0   Id                      568454 non-null  int64 \n",
            " 1   ProductId               568454 non-null  object\n",
            " 2   UserId                  568454 non-null  object\n",
            " 3   ProfileName             568438 non-null  object\n",
            " 4   HelpfulnessNumerator    568454 non-null  int64 \n",
            " 5   HelpfulnessDenominator  568454 non-null  int64 \n",
            " 6   Score                   568454 non-null  int64 \n",
            " 7   Time                    568454 non-null  int64 \n",
            " 8   Summary                 568427 non-null  object\n",
            " 9   Text                    568454 non-null  object\n",
            "dtypes: int64(5), object(5)\n",
            "memory usage: 43.4+ MB\n"
          ],
          "name": "stdout"
        }
      ]
    },
    {
      "cell_type": "code",
      "metadata": {
        "colab": {
          "base_uri": "https://localhost:8080/"
        },
        "id": "tpsmb5PxAird",
        "outputId": "68de8173-30c4-444b-d122-3412008f5d64"
      },
      "source": [
        "data.isnull().sum()"
      ],
      "execution_count": null,
      "outputs": [
        {
          "output_type": "execute_result",
          "data": {
            "text/plain": [
              "Id                         0\n",
              "ProductId                  0\n",
              "UserId                     0\n",
              "ProfileName               16\n",
              "HelpfulnessNumerator       0\n",
              "HelpfulnessDenominator     0\n",
              "Score                      0\n",
              "Time                       0\n",
              "Summary                   27\n",
              "Text                       0\n",
              "dtype: int64"
            ]
          },
          "metadata": {
            "tags": []
          },
          "execution_count": 191
        }
      ]
    },
    {
      "cell_type": "code",
      "metadata": {
        "colab": {
          "base_uri": "https://localhost:8080/"
        },
        "id": "-v8Te4cIAire",
        "outputId": "b304298b-181f-4d65-dc88-49044b370e18"
      },
      "source": [
        "data=data.dropna()\n",
        "data.isnull().sum()"
      ],
      "execution_count": null,
      "outputs": [
        {
          "output_type": "execute_result",
          "data": {
            "text/plain": [
              "Id                        0\n",
              "ProductId                 0\n",
              "UserId                    0\n",
              "ProfileName               0\n",
              "HelpfulnessNumerator      0\n",
              "HelpfulnessDenominator    0\n",
              "Score                     0\n",
              "Time                      0\n",
              "Summary                   0\n",
              "Text                      0\n",
              "dtype: int64"
            ]
          },
          "metadata": {
            "tags": []
          },
          "execution_count": 192
        }
      ]
    },
    {
      "cell_type": "code",
      "metadata": {
        "colab": {
          "base_uri": "https://localhost:8080/"
        },
        "id": "VZ7-MCDSAirf",
        "outputId": "5064c02d-9d49-433d-c56c-dbcff0519853"
      },
      "source": [
        "len(data)"
      ],
      "execution_count": null,
      "outputs": [
        {
          "output_type": "execute_result",
          "data": {
            "text/plain": [
              "568411"
            ]
          },
          "metadata": {
            "tags": []
          },
          "execution_count": 193
        }
      ]
    },
    {
      "cell_type": "code",
      "metadata": {
        "colab": {
          "base_uri": "https://localhost:8080/"
        },
        "id": "bE8i9MwaAirg",
        "outputId": "d128f540-1f28-4886-e4c8-bad61eb95fba"
      },
      "source": [
        "#   0-> NEGATIVE REVIEW\n",
        "#   1-> NEUTRAL REVIEW\n",
        "#   2-> POSTIVE REVIEW\n",
        "a=[]\n",
        "for i in data['Score']:\n",
        "    if i <3:                              \n",
        "        a.append(0)\n",
        "    if i==3:\n",
        "        a.append(1)\n",
        "    if i>3:\n",
        "        a.append(2)\n",
        "len(a)"
      ],
      "execution_count": null,
      "outputs": [
        {
          "output_type": "execute_result",
          "data": {
            "text/plain": [
              "568411"
            ]
          },
          "metadata": {
            "tags": []
          },
          "execution_count": 194
        }
      ]
    },
    {
      "cell_type": "code",
      "metadata": {
        "colab": {
          "base_uri": "https://localhost:8080/",
          "height": 282
        },
        "id": "_IX8eTQZAirg",
        "outputId": "797d1141-64af-46de-9a1c-f374175a96ca"
      },
      "source": [
        "import seaborn as sns\n",
        "sns.countplot(a)"
      ],
      "execution_count": null,
      "outputs": [
        {
          "output_type": "execute_result",
          "data": {
            "text/plain": [
              "<matplotlib.axes._subplots.AxesSubplot at 0x7fca8c3529d0>"
            ]
          },
          "metadata": {
            "tags": []
          },
          "execution_count": 195
        },
        {
          "output_type": "display_data",
          "data": {
            "image/png": "[encoded data removed]",
            "text/plain": [
              "<Figure size 432x288 with 1 Axes>"
            ]
          },
          "metadata": {
            "tags": [],
            "needs_background": "light"
          }
        }
      ]
    },
    {
      "cell_type": "code",
      "metadata": {
        "colab": {
          "base_uri": "https://localhost:8080/",
          "height": 204
        },
        "id": "Bq-apfbMAirh",
        "outputId": "d912a5b6-3bcd-4367-d945-5ebd3777050b"
      },
      "source": [
        "data['sentiment']=a\n",
        "final_dataset=data[['Text','sentiment']]\n",
        "final_dataset.head()                "
      ],
      "execution_count": null,
      "outputs": [
        {
          "output_type": "execute_result",
          "data": {
            "text/html": [
              "<div>\n",
              "<style scoped>\n",
              "    .dataframe tbody tr th:only-of-type {\n",
              "        vertical-align: middle;\n",
              "    }\n",
              "\n",
              "    .dataframe tbody tr th {\n",
              "        vertical-align: top;\n",
              "    }\n",
              "\n",
              "    .dataframe thead th {\n",
              "        text-align: right;\n",
              "    }\n",
              "</style>\n",
              "<table border=\"1\" class=\"dataframe\">\n",
              "  <thead>\n",
              "    <tr style=\"text-align: right;\">\n",
              "      <th></th>\n",
              "      <th>Text</th>\n",
              "      <th>sentiment</th>\n",
              "    </tr>\n",
              "  </thead>\n",
              "  <tbody>\n",
              "    <tr>\n",
              "      <th>0</th>\n",
              "      <td>I have bought several of the Vitality canned d...</td>\n",
              "      <td>2</td>\n",
              "    </tr>\n",
              "    <tr>\n",
              "      <th>1</th>\n",
              "      <td>Product arrived labeled as Jumbo Salted Peanut...</td>\n",
              "      <td>0</td>\n",
              "    </tr>\n",
              "    <tr>\n",
              "      <th>2</th>\n",
              "      <td>This is a confection that has been around a fe...</td>\n",
              "      <td>2</td>\n",
              "    </tr>\n",
              "    <tr>\n",
              "      <th>3</th>\n",
              "      <td>If you are looking for the secret ingredient i...</td>\n",
              "      <td>0</td>\n",
              "    </tr>\n",
              "    <tr>\n",
              "      <th>4</th>\n",
              "      <td>Great taffy at a great price.  There was a wid...</td>\n",
              "      <td>2</td>\n",
              "    </tr>\n",
              "  </tbody>\n",
              "</table>\n",
              "</div>"
            ],
            "text/plain": [
              "                                                Text  sentiment\n",
              "0  I have bought several of the Vitality canned d...          2\n",
              "1  Product arrived labeled as Jumbo Salted Peanut...          0\n",
              "2  This is a confection that has been around a fe...          2\n",
              "3  If you are looking for the secret ingredient i...          0\n",
              "4  Great taffy at a great price.  There was a wid...          2"
            ]
          },
          "metadata": {
            "tags": []
          },
          "execution_count": 196
        }
      ]
    },
    {
      "cell_type": "code",
      "metadata": {
        "colab": {
          "base_uri": "https://localhost:8080/"
        },
        "id": "Gfsphf8XAiri",
        "outputId": "c15ca2fb-2682-4b9b-bca5-7bfd5a255ee8"
      },
      "source": [
        "data_p=final_dataset[data['sentiment']==2]\n",
        "data_n=final_dataset[data['sentiment']==0]\n",
        "len(data_p),len(data_n)"
      ],
      "execution_count": null,
      "outputs": [
        {
          "output_type": "execute_result",
          "data": {
            "text/plain": [
              "(443766, 82007)"
            ]
          },
          "metadata": {
            "tags": []
          },
          "execution_count": 197
        }
      ]
    },
    {
      "cell_type": "code",
      "metadata": {
        "colab": {
          "base_uri": "https://localhost:8080/"
        },
        "id": "9t7ZibbcAirj",
        "outputId": "440a0713-91a1-4bf2-8b9b-3967f8886806"
      },
      "source": [
        "import numpy as np\n",
        "datap=data_p.iloc[np.random.randint(1,443766,25000),:]\n",
        "len(datap)"
      ],
      "execution_count": null,
      "outputs": [
        {
          "output_type": "execute_result",
          "data": {
            "text/plain": [
              "25000"
            ]
          },
          "metadata": {
            "tags": []
          },
          "execution_count": 198
        }
      ]
    },
    {
      "cell_type": "code",
      "metadata": {
        "colab": {
          "base_uri": "https://localhost:8080/"
        },
        "id": "3NNVgSLiAirj",
        "outputId": "a1130f8e-ad38-4e48-860d-6c8d5c153131"
      },
      "source": [
        "datan=data_n.iloc[np.random.randint(1,82007,25000),:]\n",
        "len(datan)"
      ],
      "execution_count": null,
      "outputs": [
        {
          "output_type": "execute_result",
          "data": {
            "text/plain": [
              "25000"
            ]
          },
          "metadata": {
            "tags": []
          },
          "execution_count": 199
        }
      ]
    },
    {
      "cell_type": "code",
      "metadata": {
        "colab": {
          "base_uri": "https://localhost:8080/"
        },
        "id": "Arm2UL06Airk",
        "outputId": "5a63482b-4c3f-4619-b16c-29fe1ae96a7c"
      },
      "source": [
        "data=pd.concat([datap,datan])\n",
        "len(data)"
      ],
      "execution_count": null,
      "outputs": [
        {
          "output_type": "execute_result",
          "data": {
            "text/plain": [
              "50000"
            ]
          },
          "metadata": {
            "tags": []
          },
          "execution_count": 200
        }
      ]
    },
    {
      "cell_type": "code",
      "metadata": {
        "id": "aVE6zk7GAirl"
      },
      "source": [
        "c=[]\n",
        "for i in data['sentiment']:\n",
        "    if i<2:\n",
        "        c.append(0)\n",
        "    if i==2:\n",
        "        c.append(1)\n",
        "data['sentiment']=c  "
      ],
      "execution_count": null,
      "outputs": []
    },
    {
      "cell_type": "code",
      "metadata": {
        "colab": {
          "base_uri": "https://localhost:8080/",
          "height": 296
        },
        "id": "Z0_vq2TBAirl",
        "outputId": "b419f36c-a8df-4461-fb65-ee9a78376b63"
      },
      "source": [
        "import seaborn as sns\n",
        "sns.countplot(data['sentiment'])"
      ],
      "execution_count": null,
      "outputs": [
        {
          "output_type": "execute_result",
          "data": {
            "text/plain": [
              "<matplotlib.axes._subplots.AxesSubplot at 0x7fca647a4c90>"
            ]
          },
          "metadata": {
            "tags": []
          },
          "execution_count": 202
        },
        {
          "output_type": "display_data",
          "data": {
            "image/png": "[encoded data removed]",
            "text/plain": [
              "<Figure size 432x288 with 1 Axes>"
            ]
          },
          "metadata": {
            "tags": [],
            "needs_background": "light"
          }
        }
      ]
    },
    {
      "cell_type": "code",
      "metadata": {
        "id": "h5ud1hqvAirm"
      },
      "source": [
        "#data.to_csv('Desktop/amazon test reviews.csv',index=False)"
      ],
      "execution_count": null,
      "outputs": []
    },
    {
      "cell_type": "code",
      "metadata": {
        "colab": {
          "base_uri": "https://localhost:8080/",
          "height": 204
        },
        "id": "nMYiZqucAirm",
        "outputId": "20dcda3a-cee5-4803-8dc8-197c47ad6d45"
      },
      "source": [
        "from bs4 import BeautifulSoup\n",
        "def strip_html(text):\n",
        "    soup = BeautifulSoup(text, \"html.parser\")\n",
        "    return soup.get_text()\n",
        "data['review']=data['Text'].apply(strip_html)\n",
        "data.head()"
      ],
      "execution_count": null,
      "outputs": [
        {
          "output_type": "execute_result",
          "data": {
            "text/html": [
              "<div>\n",
              "<style scoped>\n",
              "    .dataframe tbody tr th:only-of-type {\n",
              "        vertical-align: middle;\n",
              "    }\n",
              "\n",
              "    .dataframe tbody tr th {\n",
              "        vertical-align: top;\n",
              "    }\n",
              "\n",
              "    .dataframe thead th {\n",
              "        text-align: right;\n",
              "    }\n",
              "</style>\n",
              "<table border=\"1\" class=\"dataframe\">\n",
              "  <thead>\n",
              "    <tr style=\"text-align: right;\">\n",
              "      <th></th>\n",
              "      <th>Text</th>\n",
              "      <th>sentiment</th>\n",
              "      <th>review</th>\n",
              "    </tr>\n",
              "  </thead>\n",
              "  <tbody>\n",
              "    <tr>\n",
              "      <th>136173</th>\n",
              "      <td>Crispy, chewy and intensely flavorful -- WOW, ...</td>\n",
              "      <td>1</td>\n",
              "      <td>Crispy, chewy and intensely flavorful -- WOW, ...</td>\n",
              "    </tr>\n",
              "    <tr>\n",
              "      <th>369526</th>\n",
              "      <td>The flavor of these is definitely what stands ...</td>\n",
              "      <td>1</td>\n",
              "      <td>The flavor of these is definitely what stands ...</td>\n",
              "    </tr>\n",
              "    <tr>\n",
              "      <th>533578</th>\n",
              "      <td>These are the same that you can buy at your lo...</td>\n",
              "      <td>1</td>\n",
              "      <td>These are the same that you can buy at your lo...</td>\n",
              "    </tr>\n",
              "    <tr>\n",
              "      <th>421703</th>\n",
              "      <td>Coconut Oil is good for so many uses, this coc...</td>\n",
              "      <td>1</td>\n",
              "      <td>Coconut Oil is good for so many uses, this coc...</td>\n",
              "    </tr>\n",
              "    <tr>\n",
              "      <th>101036</th>\n",
              "      <td>This tea was surprisingly hard to find at the ...</td>\n",
              "      <td>1</td>\n",
              "      <td>This tea was surprisingly hard to find at the ...</td>\n",
              "    </tr>\n",
              "  </tbody>\n",
              "</table>\n",
              "</div>"
            ],
            "text/plain": [
              "                                                     Text  ...                                             review\n",
              "136173  Crispy, chewy and intensely flavorful -- WOW, ...  ...  Crispy, chewy and intensely flavorful -- WOW, ...\n",
              "369526  The flavor of these is definitely what stands ...  ...  The flavor of these is definitely what stands ...\n",
              "533578  These are the same that you can buy at your lo...  ...  These are the same that you can buy at your lo...\n",
              "421703  Coconut Oil is good for so many uses, this coc...  ...  Coconut Oil is good for so many uses, this coc...\n",
              "101036  This tea was surprisingly hard to find at the ...  ...  This tea was surprisingly hard to find at the ...\n",
              "\n",
              "[5 rows x 3 columns]"
            ]
          },
          "metadata": {
            "tags": []
          },
          "execution_count": 204
        }
      ]
    },
    {
      "cell_type": "code",
      "metadata": {
        "colab": {
          "base_uri": "https://localhost:8080/",
          "height": 204
        },
        "id": "gH5ZjHNTAirn",
        "outputId": "6ab91852-de66-46e3-a53a-e2d71959f8db"
      },
      "source": [
        "data=data.drop('Text',axis=1)\n",
        "import nltk \n",
        "def punc_clean(text):\n",
        "    import string as st\n",
        "    a=[w for w in text if w not in st.punctuation]\n",
        "    return ''.join(a)\n",
        "data['review']=data['review'].apply(punc_clean)\n",
        "data.head()"
      ],
      "execution_count": null,
      "outputs": [
        {
          "output_type": "execute_result",
          "data": {
            "text/html": [
              "<div>\n",
              "<style scoped>\n",
              "    .dataframe tbody tr th:only-of-type {\n",
              "        vertical-align: middle;\n",
              "    }\n",
              "\n",
              "    .dataframe tbody tr th {\n",
              "        vertical-align: top;\n",
              "    }\n",
              "\n",
              "    .dataframe thead th {\n",
              "        text-align: right;\n",
              "    }\n",
              "</style>\n",
              "<table border=\"1\" class=\"dataframe\">\n",
              "  <thead>\n",
              "    <tr style=\"text-align: right;\">\n",
              "      <th></th>\n",
              "      <th>sentiment</th>\n",
              "      <th>review</th>\n",
              "    </tr>\n",
              "  </thead>\n",
              "  <tbody>\n",
              "    <tr>\n",
              "      <th>136173</th>\n",
              "      <td>1</td>\n",
              "      <td>Crispy chewy and intensely flavorful  WOW they...</td>\n",
              "    </tr>\n",
              "    <tr>\n",
              "      <th>369526</th>\n",
              "      <td>1</td>\n",
              "      <td>The flavor of these is definitely what stands ...</td>\n",
              "    </tr>\n",
              "    <tr>\n",
              "      <th>533578</th>\n",
              "      <td>1</td>\n",
              "      <td>These are the same that you can buy at your lo...</td>\n",
              "    </tr>\n",
              "    <tr>\n",
              "      <th>421703</th>\n",
              "      <td>1</td>\n",
              "      <td>Coconut Oil is good for so many uses this coco...</td>\n",
              "    </tr>\n",
              "    <tr>\n",
              "      <th>101036</th>\n",
              "      <td>1</td>\n",
              "      <td>This tea was surprisingly hard to find at the ...</td>\n",
              "    </tr>\n",
              "  </tbody>\n",
              "</table>\n",
              "</div>"
            ],
            "text/plain": [
              "        sentiment                                             review\n",
              "136173          1  Crispy chewy and intensely flavorful  WOW they...\n",
              "369526          1  The flavor of these is definitely what stands ...\n",
              "533578          1  These are the same that you can buy at your lo...\n",
              "421703          1  Coconut Oil is good for so many uses this coco...\n",
              "101036          1  This tea was surprisingly hard to find at the ..."
            ]
          },
          "metadata": {
            "tags": []
          },
          "execution_count": 205
        }
      ]
    },
    {
      "cell_type": "code",
      "metadata": {
        "colab": {
          "base_uri": "https://localhost:8080/"
        },
        "id": "hsfPfttEAirn",
        "outputId": "5665b90f-4e89-4db0-f2c7-4291365a85e7"
      },
      "source": [
        "import nltk\n",
        "nltk.download('stopwords')\n",
        "nltk.download('punkt')\n",
        "def remove_stopword(text):\n",
        "    stopword=nltk.corpus.stopwords.words('english')\n",
        "    stopword.remove('not')\n",
        "    a=[w for w in nltk.word_tokenize(text) if w not in stopword]\n",
        "    return ' '.join(a)\n",
        "data['review']=data['review'].apply(remove_stopword)"
      ],
      "execution_count": null,
      "outputs": [
        {
          "output_type": "stream",
          "text": [
            "[nltk_data] Downloading package stopwords to /root/nltk_data...\n",
            "[nltk_data]   Package stopwords is already up-to-date!\n",
            "[nltk_data] Downloading package punkt to /root/nltk_data...\n",
            "[nltk_data]   Package punkt is already up-to-date!\n"
          ],
          "name": "stdout"
        }
      ]
    },
    {
      "cell_type": "code",
      "metadata": {
        "id": "GuKjB_PiAiro"
      },
      "source": [
        "from sklearn.feature_extraction.text import CountVectorizer,TfidfVectorizer\n",
        "vectr=CountVectorizer(ngram_range=(1,2),min_df=5)\n",
        "vectr.fit(data['review'])\n",
        "vect_X=vectr.transform(data['review'])"
      ],
      "execution_count": null,
      "outputs": []
    },
    {
      "cell_type": "code",
      "metadata": {
        "colab": {
          "base_uri": "https://localhost:8080/"
        },
        "id": "nwrWhOx9Airo",
        "outputId": "8d2e2b3a-d4b6-45f0-fc6e-a02e5b8a2bc9"
      },
      "source": [
        "from sklearn.linear_model import LogisticRegression\n",
        "clf=LogisticRegression().fit(vect_X,data['sentiment'])\n",
        "clf.score(vect_X,data['sentiment'])"
      ],
      "execution_count": null,
      "outputs": [
        {
          "output_type": "execute_result",
          "data": {
            "text/plain": [
              "0.9983"
            ]
          },
          "metadata": {
            "tags": []
          },
          "execution_count": 208
        }
      ]
    },
    {
      "cell_type": "code",
      "metadata": {
        "id": "7jSFnBaHAirp"
      },
      "source": [
        "import tensorflow as tf"
      ],
      "execution_count": null,
      "outputs": []
    },
    {
      "cell_type": "code",
      "metadata": {
        "id": "06J9jDqABgt0"
      },
      "source": [
        "ann=tf.keras.models.Sequential()\r\n",
        "\r\n",
        "ann.add(tf.keras.layers.Dense(50,activation='relu'))\r\n",
        "\r\n",
        "ann.add(tf.keras.layers.Dense(50,activation='relu'))\r\n",
        "\r\n",
        "ann.add(tf.keras.layers.Dense(1,activation='sigmoid'))\r\n",
        "\r\n",
        "ann.compile(optimizer='adam',loss = 'binary_crossentropy', metrics = ['accuracy'])"
      ],
      "execution_count": null,
      "outputs": []
    },
    {
      "cell_type": "code",
      "metadata": {
        "id": "AZVXDmyODhpg"
      },
      "source": [
        "b=list(data['sentiment'])"
      ],
      "execution_count": null,
      "outputs": []
    },
    {
      "cell_type": "code",
      "metadata": {
        "colab": {
          "base_uri": "https://localhost:8080/"
        },
        "id": "vvllESwpFRW3",
        "outputId": "2a695f85-b633-4f86-8c26-4df89b58d407"
      },
      "source": [
        "np.array(b).reshape(-1,1).shape,vect_X.shape"
      ],
      "execution_count": null,
      "outputs": [
        {
          "output_type": "execute_result",
          "data": {
            "text/plain": [
              "((50000, 1), (50000, 84061))"
            ]
          },
          "metadata": {
            "tags": []
          },
          "execution_count": 212
        }
      ]
    },
    {
      "cell_type": "code",
      "metadata": {
        "colab": {
          "base_uri": "https://localhost:8080/"
        },
        "id": "ZvC-9b7wBg1f",
        "outputId": "f0005301-96c4-4023-8329-598ffb33b86a"
      },
      "source": [
        "import numpy as np\r\n",
        "ann.fit(vect_X,np.array(b).reshape(-1,1),epochs=10)"
      ],
      "execution_count": null,
      "outputs": [
        {
          "output_type": "stream",
          "text": [
            "Epoch 1/10\n",
            "1563/1563 [==============================] - 25s 16ms/step - loss: 0.3413 - accuracy: 0.8618\n",
            "Epoch 2/10\n",
            "1563/1563 [==============================] - 25s 16ms/step - loss: 0.0520 - accuracy: 0.9822\n",
            "Epoch 3/10\n",
            "1563/1563 [==============================] - 25s 16ms/step - loss: 0.0125 - accuracy: 0.9967\n",
            "Epoch 4/10\n",
            "1563/1563 [==============================] - 25s 16ms/step - loss: 0.0040 - accuracy: 0.9991\n",
            "Epoch 5/10\n",
            "1563/1563 [==============================] - 25s 16ms/step - loss: 0.0013 - accuracy: 0.9996\n",
            "Epoch 6/10\n",
            "1563/1563 [==============================] - 25s 16ms/step - loss: 0.0012 - accuracy: 0.9998\n",
            "Epoch 7/10\n",
            "1563/1563 [==============================] - 25s 16ms/step - loss: 9.2249e-04 - accuracy: 0.9998\n",
            "Epoch 8/10\n",
            "1563/1563 [==============================] - 25s 16ms/step - loss: 0.0041 - accuracy: 0.9989\n",
            "Epoch 9/10\n",
            "1563/1563 [==============================] - 25s 16ms/step - loss: 0.0017 - accuracy: 0.9997\n",
            "Epoch 10/10\n",
            "1563/1563 [==============================] - 25s 16ms/step - loss: 1.8735e-04 - accuracy: 1.0000\n"
          ],
          "name": "stdout"
        },
        {
          "output_type": "execute_result",
          "data": {
            "text/plain": [
              "<tensorflow.python.keras.callbacks.History at 0x7fca618c1590>"
            ]
          },
          "metadata": {
            "tags": []
          },
          "execution_count": 213
        }
      ]
    },
    {
      "cell_type": "code",
      "metadata": {
        "colab": {
          "base_uri": "https://localhost:8080/"
        },
        "id": "c75Tq2NiBg_Q",
        "outputId": "ac95a846-591d-4e4b-cd88-5ad6bc1862b5"
      },
      "source": [
        "data_t=pd.read_csv('/content/drive/MyDrive/amazon test reviews.csv')\r\n",
        "data_t.shape"
      ],
      "execution_count": null,
      "outputs": [
        {
          "output_type": "execute_result",
          "data": {
            "text/plain": [
              "(10000, 2)"
            ]
          },
          "metadata": {
            "tags": []
          },
          "execution_count": 214
        }
      ]
    },
    {
      "cell_type": "code",
      "metadata": {
        "colab": {
          "base_uri": "https://localhost:8080/"
        },
        "id": "hxx0AZ_JB-CA",
        "outputId": "ff8e85fa-bd48-4612-cd96-cd6de0dd1487"
      },
      "source": [
        "clf.score(vectr.transform(data_t['Text']),np.array(data_t['sentiment']).reshape(-1,1))"
      ],
      "execution_count": null,
      "outputs": [
        {
          "output_type": "execute_result",
          "data": {
            "text/plain": [
              "0.8819"
            ]
          },
          "metadata": {
            "tags": []
          },
          "execution_count": 215
        }
      ]
    },
    {
      "cell_type": "code",
      "metadata": {
        "colab": {
          "base_uri": "https://localhost:8080/"
        },
        "id": "gi5TrwF0BhJm",
        "outputId": "83572dc1-f54f-494f-d05e-0047fc0453f2"
      },
      "source": [
        "ann.evaluate(vectr.transform(data_t['Text']),np.array(data_t['sentiment']).reshape(-1,1))"
      ],
      "execution_count": null,
      "outputs": [
        {
          "output_type": "stream",
          "text": [
            "313/313 [==============================] - 1s 1ms/step - loss: 1.0050 - accuracy: 0.8847\n"
          ],
          "name": "stdout"
        },
        {
          "output_type": "execute_result",
          "data": {
            "text/plain": [
              "[1.0050325393676758, 0.8847000002861023]"
            ]
          },
          "metadata": {
            "tags": []
          },
          "execution_count": 216
        }
      ]
    },
    {
      "cell_type": "code",
      "metadata": {
        "colab": {
          "base_uri": "https://localhost:8080/"
        },
        "id": "3RSU3ZqlBg6v",
        "outputId": "e843aa4b-b526-4c45-a660-bb37d615b812"
      },
      "source": [
        "ann.predict(vectr.transform(['taste is not good']))"
      ],
      "execution_count": null,
      "outputs": [
        {
          "output_type": "execute_result",
          "data": {
            "text/plain": [
              "array([[0.00095683]], dtype=float32)"
            ]
          },
          "metadata": {
            "tags": []
          },
          "execution_count": 217
        }
      ]
    },
    {
      "cell_type": "code",
      "metadata": {
        "colab": {
          "base_uri": "https://localhost:8080/"
        },
        "id": "NpXbRNpNGHl_",
        "outputId": "b959bdcb-f1a9-4f6a-da12-944d3c0ed27b"
      },
      "source": [
        "ann.predict(vectr.transform(['taste is good']))"
      ],
      "execution_count": null,
      "outputs": [
        {
          "output_type": "execute_result",
          "data": {
            "text/plain": [
              "array([[0.99181116]], dtype=float32)"
            ]
          },
          "metadata": {
            "tags": []
          },
          "execution_count": 218
        }
      ]
    },
    {
      "cell_type": "code",
      "metadata": {
        "colab": {
          "base_uri": "https://localhost:8080/"
        },
        "id": "MwgTdPqqafJ3",
        "outputId": "4d011eae-f2be-49e4-98cd-4cf02a73929b"
      },
      "source": [
        "clf.predict(vectr.transform(['i do like this food']))"
      ],
      "execution_count": null,
      "outputs": [
        {
          "output_type": "execute_result",
          "data": {
            "text/plain": [
              "array([1])"
            ]
          },
          "metadata": {
            "tags": []
          },
          "execution_count": 219
        }
      ]
    },
    {
      "cell_type": "code",
      "metadata": {
        "colab": {
          "base_uri": "https://localhost:8080/"
        },
        "id": "Cp-884_vafRR",
        "outputId": "4004cfe0-b6d0-4b7b-a4b9-ac5d48596e4e"
      },
      "source": [
        "clf.predict(vectr.transform(['i do not like this food']))"
      ],
      "execution_count": null,
      "outputs": [
        {
          "output_type": "execute_result",
          "data": {
            "text/plain": [
              "array([0])"
            ]
          },
          "metadata": {
            "tags": []
          },
          "execution_count": 220
        }
      ]
    },
    {
      "cell_type": "code",
      "metadata": {
        "id": "f9MULVs2aqbp"
      },
      "source": [
        ""
      ],
      "execution_count": null,
      "outputs": []
    }
  ]
}
